{
 "cells": [
  {
   "cell_type": "code",
   "execution_count": 1,
   "metadata": {},
   "outputs": [
    {
     "name": "stdout",
     "output_type": "stream",
     "text": [
      "Time taken to open File:  0.018001794815063477 seconds.\n",
      "No. of lines printed:  128326\n"
     ]
    }
   ],
   "source": [
    "import time\n",
    " \n",
    "start = time.time()\n",
    "count = 0\n",
    "file=open(\"sample.txt\", \"r\", buffering=1, encoding=\"utf-8\")\n",
    "while 1:\n",
    "    lines=file.readlines(10000)\n",
    "    if not lines:\n",
    "        break   \n",
    "    for line in file:\n",
    "       count = count + 1\n",
    "end =  time.time()\n",
    "print(\"Time taken to open File: \",(end-start),\"seconds.\")\n",
    "print(\"No. of lines printed: \",count)\n",
    "file.close()"
   ]
  },
  {
   "cell_type": "code",
   "execution_count": 2,
   "metadata": {},
   "outputs": [
    {
     "name": "stdout",
     "output_type": "stream",
     "text": [
      "Most repeated word: the\n",
      "Time taken to find most occured word:  0.16770291328430176 seconds.\n"
     ]
    }
   ],
   "source": [
    "count = 0\n",
    "word = ''\n",
    "frequency = 0  \n",
    "words = [] \n",
    "\n",
    "start = time.time()\n",
    "#open the file in read mode  \n",
    "f=open(\"sample.txt\", \"r\", buffering=1, encoding=\"utf-8\")\n",
    "#gets each line till end of file is reached  \n",
    "lines=f.readlines(10000) #returns list containing every 10000 lines\n",
    "for line in lines:\n",
    "    #splits each line into words  \n",
    "    string = line.lower().replace(',','').replace('.','').split(\" \")  \n",
    "    #adding all words we got in previous step into words  \n",
    "    for s in string:  \n",
    "        words.append(s)\n",
    " \n",
    "#determining the most repeated word \n",
    "for i in range(0, len(words)):  \n",
    "        count = 0\n",
    "        #count each word in the file and store it in variable count  \n",
    "        for j in range(i+1, len(words)):  \n",
    "            if(words[i] == words[j]):  \n",
    "                count += 1  \n",
    " \n",
    "        if(count > frequency): #if count is greater than maxCount, we assign the value to maxCount \n",
    "            word = words[i]  \n",
    "            frequency = count  #the most occured word to word\n",
    "print(\"Most repeated word: \" + word)\n",
    "end =  time.time()\n",
    "print(\"Time taken to find most occured word: \",(end-start),\"seconds.\")\n",
    "f.close()"
   ]
  },
  {
   "cell_type": "code",
   "execution_count": 3,
   "metadata": {},
   "outputs": [
    {
     "name": "stdout",
     "output_type": "stream",
     "text": [
      "Time taken to replace most occured word:  0.05766105651855469 seconds.\n"
     ]
    }
   ],
   "source": [
    "start = time.time()\n",
    "\n",
    "f_old = open(\"sample.txt\", \"r\", buffering=1, encoding=\"utf-8\") #opened the input file\n",
    "f_replaced = open(\"out.txt\", \"w\", buffering=1, encoding=\"utf-8\") #created a new file to add the replaced 'word' data\n",
    "for line in f_old: #using for loop to access the input file to replace\n",
    "\tf_replaced.write(line.lower().replace(word, 'loopr')) \n",
    "\n",
    "end =  time.time()\n",
    "print(\"Time taken to replace most occured word: \",(end-start),\"seconds.\")\n",
    "\n",
    "f_old.close()\n",
    "f_replaced.close()"
   ]
  }
 ],
 "metadata": {
  "kernelspec": {
   "display_name": "Python 3.8.13 ('base')",
   "language": "python",
   "name": "python3"
  },
  "language_info": {
   "codemirror_mode": {
    "name": "ipython",
    "version": 3
   },
   "file_extension": ".py",
   "mimetype": "text/x-python",
   "name": "python",
   "nbconvert_exporter": "python",
   "pygments_lexer": "ipython3",
   "version": "3.8.13"
  },
  "orig_nbformat": 4,
  "vscode": {
   "interpreter": {
    "hash": "17547012a6beb5db45fed86b3a5fcf5149b64140a332ae53d06481d276316ee0"
   }
  }
 },
 "nbformat": 4,
 "nbformat_minor": 2
}
