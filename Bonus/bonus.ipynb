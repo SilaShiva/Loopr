{
 "cells": [
  {
   "cell_type": "code",
   "execution_count": 1,
   "metadata": {},
   "outputs": [
    {
     "name": "stdout",
     "output_type": "stream",
     "text": [
      "Time taken to open File:  0.02211308479309082 seconds.\n",
      "No. of lines printed:  128433\n"
     ]
    }
   ],
   "source": [
    "import time\n",
    " \n",
    "start = time.time()\n",
    "count = 0\n",
    "file=open(\"sample.txt\", \"r\", buffering=1, encoding=\"utf-8\")\n",
    "while 1:\n",
    "    lines=file.readlines(1000)\n",
    "    if not lines:\n",
    "        break   \n",
    "    for line in file:\n",
    "       count = count + 1\n",
    "end =  time.time()\n",
    "print(\"Time taken to open File: \",(end-start),\"seconds.\")\n",
    "print(\"No. of lines printed: \",count)\n",
    "file.close()"
   ]
  },
  {
   "cell_type": "code",
   "execution_count": 2,
   "metadata": {},
   "outputs": [
    {
     "name": "stdout",
     "output_type": "stream",
     "text": [
      "Most repeated word: the\n",
      "Time taken to find most occured word:  0.0007710456848144531 seconds.\n"
     ]
    }
   ],
   "source": [
    "# importing Counter function\n",
    "from collections import Counter\n",
    " \n",
    "words = []\n",
    "start = time.time()\n",
    "#open the file in read mode  \n",
    "f=open(\"sample.txt\", \"r\", buffering=1, encoding=\"utf-8\")\n",
    "#gets each line till end of file is reached  \n",
    "lines=f.readlines(1000) #returns list containing every 10000 lines\n",
    "for line in lines:\n",
    "    #splits each line into words  \n",
    "    string = line.lower().replace(',','').replace('.','').split(\" \")  \n",
    "    #adding all words we got in previous step into words  \n",
    "    for s in string:  \n",
    "        words.append(s)\n",
    " \n",
    "wordsFrequency = Counter(words)\n",
    "mostRepeatedWord = (max(wordsFrequency,key=wordsFrequency.get))\n",
    " \n",
    "print(\"Most repeated word: \" + mostRepeatedWord)\n",
    "end =  time.time()\n",
    "print(\"Time taken to find most occured word: \",(end-start),\"seconds.\")\n",
    "f.close()"
   ]
  },
  {
   "cell_type": "code",
   "execution_count": 3,
   "metadata": {},
   "outputs": [
    {
     "name": "stdout",
     "output_type": "stream",
     "text": [
      "Time taken to replace most occured word:  0.02615499496459961 seconds.\n"
     ]
    }
   ],
   "source": [
    "import re\n",
    "start = time.time()\n",
    "\n",
    "f_old = open(\"sample.txt\", \"r\", buffering=1, encoding=\"utf-8\") #opened the input file\n",
    "f_replaced = open(\"output.txt\", \"w\", buffering=1, encoding=\"utf-8\") #created a new file to add the replaced 'word' data\n",
    "text = f_old.read()\n",
    "text = text.lower()\n",
    "text = re.sub(mostRepeatedWord, 'loopr', text)\n",
    "f_replaced.write(text)\n",
    "\n",
    "\n",
    "end =  time.time()\n",
    "print(\"Time taken to replace most occured word: \",(end-start),\"seconds.\")\n",
    "\n",
    "f_old.close()\n",
    "f_replaced.close()"
   ]
  }
 ],
 "metadata": {
  "kernelspec": {
   "display_name": "Python 3.8.13 ('base')",
   "language": "python",
   "name": "python3"
  },
  "language_info": {
   "codemirror_mode": {
    "name": "ipython",
    "version": 3
   },
   "file_extension": ".py",
   "mimetype": "text/x-python",
   "name": "python",
   "nbconvert_exporter": "python",
   "pygments_lexer": "ipython3",
   "version": "3.8.13"
  },
  "orig_nbformat": 4,
  "vscode": {
   "interpreter": {
    "hash": "17547012a6beb5db45fed86b3a5fcf5149b64140a332ae53d06481d276316ee0"
   }
  }
 },
 "nbformat": 4,
 "nbformat_minor": 2
}
