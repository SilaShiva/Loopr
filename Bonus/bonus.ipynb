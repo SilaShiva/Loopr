{
 "cells": [
  {
   "cell_type": "code",
   "execution_count": 1,
   "metadata": {},
   "outputs": [
    {
     "name": "stdout",
     "output_type": "stream",
     "text": [
      "Time taken to open File:  0.04146695137023926 seconds.\n",
      "No. of lines printed:  128433\n"
     ]
    }
   ],
   "source": [
    "# importing time function\n",
    "import time\n",
    " \n",
    "start = time.time() #start countdown\n",
    "count = 0 \n",
    "file=open(\"sample.txt\", \"r\", buffering=1, encoding=\"utf-8\")\n",
    "while True:\n",
    "    lines=file.readlines(1000) #reads every 1000 lines\n",
    "    if not lines: # checking for lines\n",
    "        break   \n",
    "    for line in file: \n",
    "       count = count + 1 #adding 1 for every line\n",
    "end =  time.time() #end countdown\n",
    "print(\"Time taken to open File: \",(end-start),\"seconds.\")\n",
    "print(\"No. of lines printed: \",count)\n",
    "file.close()"
   ]
  },
  {
   "cell_type": "code",
   "execution_count": 2,
   "metadata": {},
   "outputs": [
    {
     "name": "stdout",
     "output_type": "stream",
     "text": [
      "Most repeated word: the\n",
      "Time taken to find most occured word:  0.0005400180816650391 seconds.\n"
     ]
    }
   ],
   "source": [
    "# importing Counter function\n",
    "from collections import Counter\n",
    " \n",
    "words = []\n",
    "start = time.time() #start countdown\n",
    "#open the file in read mode  \n",
    "f=open(\"sample.txt\", \"r\", buffering=1, encoding=\"utf-8\")\n",
    "#gets each line till end of file is reached  \n",
    "lines=f.readlines(1000) #reads every 1000 lines\n",
    "for line in lines:\n",
    "    #splits each line into words  \n",
    "    string = line.lower().replace(',','').replace('.','').split(\" \")  \n",
    "    #adding all words we got in previous step into words  \n",
    "    for s in string:  \n",
    "        words.append(s)\n",
    " \n",
    "wordsFrequency = Counter(words)\n",
    "mostRepeatedWord = (max(wordsFrequency,key=wordsFrequency.get))\n",
    " \n",
    "print(\"Most repeated word: \" + mostRepeatedWord)\n",
    "end =  time.time() #end countdown\n",
    "print(\"Time taken to find most occured word: \",(end-start),\"seconds.\")\n",
    "f.close()"
   ]
  },
  {
   "cell_type": "code",
   "execution_count": 3,
   "metadata": {},
   "outputs": [
    {
     "name": "stdout",
     "output_type": "stream",
     "text": [
      "Time taken to replace most occured word:  0.027753353118896484 seconds.\n"
     ]
    }
   ],
   "source": [
    "# importing re function\n",
    "import re\n",
    "start = time.time() #start countdown\n",
    "\n",
    "f_old = open(\"sample.txt\", \"r\", buffering=1, encoding=\"utf-8\") #opened the input file\n",
    "f_replaced = open(\"output.txt\", \"w\", buffering=1, encoding=\"utf-8\") #created a new file to add the replaced 'word' data\n",
    "text = f_old.read() # reading lines of sample text\n",
    "text = text.lower() # converting to lower case\n",
    "text = re.sub(mostRepeatedWord, 'loopr', text) # using re.sub() to replace word\n",
    "f_replaced.write(text) # writing the text to output file\n",
    "\n",
    "\n",
    "end =  time.time() #end countdown\n",
    "print(\"Time taken to replace most occured word: \",(end-start),\"seconds.\")\n",
    "\n",
    "f_old.close() #close the input file\n",
    "f_replaced.close() #close the output file"
   ]
  }
 ],
 "metadata": {
  "kernelspec": {
   "display_name": "Python 3.8.13 ('base')",
   "language": "python",
   "name": "python3"
  },
  "language_info": {
   "codemirror_mode": {
    "name": "ipython",
    "version": 3
   },
   "file_extension": ".py",
   "mimetype": "text/x-python",
   "name": "python",
   "nbconvert_exporter": "python",
   "pygments_lexer": "ipython3",
   "version": "3.8.13"
  },
  "orig_nbformat": 4,
  "vscode": {
   "interpreter": {
    "hash": "17547012a6beb5db45fed86b3a5fcf5149b64140a332ae53d06481d276316ee0"
   }
  }
 },
 "nbformat": 4,
 "nbformat_minor": 2
}
